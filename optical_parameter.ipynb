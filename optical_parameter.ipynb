{
 "cells": [
  {
   "cell_type": "code",
   "execution_count": 8,
   "metadata": {},
   "outputs": [],
   "source": [
    "import numpy as np\n",
    "import math\n",
    "\n",
    "import pandas as pd\n",
    "from itertools import combinations, product, permutations\n",
    "import random"
   ]
  },
  {
   "cell_type": "code",
   "execution_count": 9,
   "metadata": {},
   "outputs": [],
   "source": [
    "def epsilon_1(wavenumbers, w_0, w_p, gamma):\n",
    "    return pow(w_p,2)*(w_0**2 - wavenumbers**2)/(( pow(wavenumbers,2) - pow(w_0,2) )**2+(w_0*gamma)**2)\n",
    "\n",
    "def epsilon_2( wavenumbers, w_0, w_p, gamma ):\n",
    "    return wavenumbers * gamma * pow(w_p,2) / ( (w_0*gamma)**2 + ( pow(wavenumbers,2) - pow(w_0,2) )**2)\n",
    "\n",
    "def multi_epsilon_1(wavenumbers, params ):\n",
    "    paramsRest = params[1:] # params[j][0] #e_inf\n",
    "    e_inf=params[0]\n",
    "    return e_inf + sum( [ epsilon_1( wavenumbers, *paramsRest[j][  : ] ) for j in range( 1, len( paramsRest ) ) ] ) \n",
    "\n",
    "def multi_epsilon_2( wavenumbers, params ):\n",
    "    #off = params[0]\n",
    "    #paramsRest = params[1:]\n",
    "    paramsRest = params[1:]\n",
    "    print(paramsRest)\n",
    "    #assert not ( len( paramsRest ) % 3 ) #0,1,2면  assert error 발생\n",
    "    #return off + sum( [ lorentzian( x, *paramsRest[ i : i+3 ] ) for i in range( 0, len( paramsRest ), 3 ) ] )\n",
    "    return sum( [ epsilon_2( wavenumbers, *paramsRest[j][  : ] ) for j in range( 1, len( paramsRest ) ) ] )  "
   ]
  },
  {
   "cell_type": "markdown",
   "metadata": {},
   "source": [
    "n,k는 난수로써, e_inf,w0,wp,gamma 양에 따라 제한되어야 함."
   ]
  },
  {
   "cell_type": "code",
   "execution_count": 10,
   "metadata": {},
   "outputs": [],
   "source": [
    "random.seed(333)"
   ]
  },
  {
   "cell_type": "code",
   "execution_count": 11,
   "metadata": {},
   "outputs": [
    {
     "name": "stdout",
     "output_type": "stream",
     "text": [
      "[(1500.0, 0.0, 30.0), (1000.0, 30.0, 0.0), (1500.0, 15.0, 0.0)]\n",
      "[(1500.0, 0.0, 0.0), (1500.0, 30.0, 30.0), (1500.0, 0.0, 15.0)]\n",
      "[(1000.0, 30.0, 30.0), (1000.0, 30.0, 15.0), (2000.0, 30.0, 15.0)]\n",
      "[(1500.0, 30.0, 30.0), (2000.0, 30.0, 15.0), (1000.0, 30.0, 15.0)]\n",
      "[(1000.0, 0.0, 30.0), (1500.0, 0.0, 15.0), (1000.0, 0.0, 15.0)]\n",
      "[(2000.0, 30.0, 0.0), (1500.0, 15.0, 0.0), (2000.0, 30.0, 15.0)]\n",
      "[(2000.0, 0.0, 15.0), (2000.0, 30.0, 0.0), (1000.0, 30.0, 30.0)]\n",
      "[(1000.0, 30.0, 15.0), (1500.0, 30.0, 0.0), (1500.0, 30.0, 30.0)]\n",
      "[(1000.0, 0.0, 15.0), (1500.0, 0.0, 0.0), (1000.0, 15.0, 30.0)]\n",
      "[(1000.0, 0.0, 30.0), (2000.0, 15.0, 30.0), (2000.0, 0.0, 30.0)]\n",
      "[(1000.0, 15.0, 15.0), (1000.0, 0.0, 0.0), (2000.0, 30.0, 30.0)]\n",
      "[(1000.0, 30.0, 30.0), (1000.0, 15.0, 15.0), (2000.0, 15.0, 0.0)]\n",
      "[(2000.0, 30.0, 15.0), (1000.0, 15.0, 15.0), (1500.0, 0.0, 15.0)]\n",
      "[(1000.0, 15.0, 0.0), (1000.0, 30.0, 15.0), (1500.0, 15.0, 0.0)]\n",
      "[(2000.0, 0.0, 15.0), (1500.0, 30.0, 0.0), (1500.0, 0.0, 30.0)]\n",
      "[(1000.0, 0.0, 30.0), (1500.0, 15.0, 0.0), (1500.0, 0.0, 30.0)]\n",
      "[(1000.0, 0.0, 30.0), (1000.0, 15.0, 30.0), (1000.0, 0.0, 15.0)]\n",
      "[(2000.0, 30.0, 30.0), (1000.0, 15.0, 15.0), (2000.0, 15.0, 30.0)]\n",
      "[(1500.0, 0.0, 15.0), (2000.0, 15.0, 0.0), (1500.0, 30.0, 0.0)]\n",
      "[(1000.0, 15.0, 30.0), (2000.0, 15.0, 15.0), (2000.0, 30.0, 30.0)]\n",
      "[(2000.0, 30.0, 0.0), (2000.0, 0.0, 0.0), (1000.0, 30.0, 30.0)]\n",
      "[(1500.0, 15.0, 0.0), (1000.0, 0.0, 30.0), (2000.0, 0.0, 15.0)]\n",
      "[(2000.0, 0.0, 15.0), (1500.0, 0.0, 0.0), (1500.0, 15.0, 0.0)]\n",
      "[(1000.0, 30.0, 15.0), (1000.0, 15.0, 30.0), (1000.0, 30.0, 0.0)]\n",
      "[(2000.0, 15.0, 15.0), (1500.0, 30.0, 30.0), (1500.0, 30.0, 0.0)]\n",
      "[(1500.0, 0.0, 0.0), (1500.0, 15.0, 30.0), (2000.0, 0.0, 30.0)]\n",
      "[(2000.0, 0.0, 30.0), (1000.0, 30.0, 0.0), (1500.0, 0.0, 15.0)]\n"
     ]
    }
   ],
   "source": [
    "k=np.linspace(600,4000,50) #wavenumber range\n",
    "w0=np.linspace(1000,2000,3) #wave_0 range\n",
    "w_p=np.linspace(0,30,3) #plasma frequency range\n",
    "gam=np.linspace(0,30,3) #gamma range\n",
    "e_range=np.arange(1.4, 1.5, 0.1) #epsilon_inf range\n",
    "testData=[]\n",
    "count=0\n",
    "peak=[]\n",
    "parameters=list(product(w0,w_p,gam))\n",
    "e1_spectra=[]\n",
    "e2_spectra=[]\n",
    "set_param=[0,0,0,0]\n",
    "for i in range(0,len(parameters)):\n",
    "    e_inf=random.choice(e_range)\n",
    "    set_param[0]=e_inf\n",
    "    set_param[1:]=random.sample(parameters,3)\n",
    "    #set_params=np.array(set_param)\n",
    "    e1_spectra.append(multi_epsilon_1(k, set_param)) #epsilon_1 spectrum\n",
    "    e2_spectra.append(multi_epsilon_2(k, set_param)) #epsilon_2 spectrum"
   ]
  },
  {
   "cell_type": "code",
   "execution_count": 12,
   "metadata": {},
   "outputs": [],
   "source": [
    "#df_parr=pd.DataFrame(data=set_param,columns=['first_peak', 'second_peak', 'third_peak'])\n",
    "df_e1_spc=pd.DataFrame(data=e1_spectra, columns=k)\n",
    "df_e2_spc=pd.DataFrame(data=e2_spectra, columns=k)\n",
    "df_e_spc=pd.concat([df_e1_spc,df_e2_spc],axis=1) #Re(e) & Im(e) spectrum"
   ]
  },
  {
   "cell_type": "code",
   "execution_count": 13,
   "metadata": {},
   "outputs": [
    {
     "data": {
      "text/html": [
       "<div>\n",
       "<style scoped>\n",
       "    .dataframe tbody tr th:only-of-type {\n",
       "        vertical-align: middle;\n",
       "    }\n",
       "\n",
       "    .dataframe tbody tr th {\n",
       "        vertical-align: top;\n",
       "    }\n",
       "\n",
       "    .dataframe thead th {\n",
       "        text-align: right;\n",
       "    }\n",
       "</style>\n",
       "<table border=\"1\" class=\"dataframe\">\n",
       "  <thead>\n",
       "    <tr style=\"text-align: right;\">\n",
       "      <th></th>\n",
       "      <th>600.000000</th>\n",
       "      <th>669.387755</th>\n",
       "      <th>738.775510</th>\n",
       "      <th>808.163265</th>\n",
       "      <th>877.551020</th>\n",
       "      <th>946.938776</th>\n",
       "      <th>1016.326531</th>\n",
       "      <th>1085.714286</th>\n",
       "      <th>1155.102041</th>\n",
       "      <th>1224.489796</th>\n",
       "      <th>...</th>\n",
       "      <th>3375.510204</th>\n",
       "      <th>3444.897959</th>\n",
       "      <th>3514.285714</th>\n",
       "      <th>3583.673469</th>\n",
       "      <th>3653.061224</th>\n",
       "      <th>3722.448980</th>\n",
       "      <th>3791.836735</th>\n",
       "      <th>3861.224490</th>\n",
       "      <th>3930.612245</th>\n",
       "      <th>4000.000000</th>\n",
       "    </tr>\n",
       "  </thead>\n",
       "  <tbody>\n",
       "    <tr>\n",
       "      <th>0</th>\n",
       "      <td>1.501525</td>\n",
       "      <td>1.501756</td>\n",
       "      <td>1.502113</td>\n",
       "      <td>1.502736</td>\n",
       "      <td>1.504067</td>\n",
       "      <td>1.508878</td>\n",
       "      <td>1.472846</td>\n",
       "      <td>1.495176</td>\n",
       "      <td>1.497553</td>\n",
       "      <td>1.498497</td>\n",
       "      <td>...</td>\n",
       "      <td>0.000000</td>\n",
       "      <td>0.000000</td>\n",
       "      <td>0.000000e+00</td>\n",
       "      <td>0.000000e+00</td>\n",
       "      <td>0.000000e+00</td>\n",
       "      <td>0.000000e+00</td>\n",
       "      <td>0.000000e+00</td>\n",
       "      <td>0.000000e+00</td>\n",
       "      <td>0.000000e+00</td>\n",
       "      <td>0.000000e+00</td>\n",
       "    </tr>\n",
       "    <tr>\n",
       "      <th>1</th>\n",
       "      <td>1.400476</td>\n",
       "      <td>1.400499</td>\n",
       "      <td>1.400528</td>\n",
       "      <td>1.400563</td>\n",
       "      <td>1.400608</td>\n",
       "      <td>1.400664</td>\n",
       "      <td>1.400738</td>\n",
       "      <td>1.400839</td>\n",
       "      <td>1.400980</td>\n",
       "      <td>1.401195</td>\n",
       "      <td>...</td>\n",
       "      <td>0.000001</td>\n",
       "      <td>0.000001</td>\n",
       "      <td>9.301049e-07</td>\n",
       "      <td>8.623225e-07</td>\n",
       "      <td>8.012540e-07</td>\n",
       "      <td>7.460604e-07</td>\n",
       "      <td>6.960288e-07</td>\n",
       "      <td>6.505502e-07</td>\n",
       "      <td>6.091019e-07</td>\n",
       "      <td>5.712336e-07</td>\n",
       "    </tr>\n",
       "    <tr>\n",
       "      <th>2</th>\n",
       "      <td>1.501653</td>\n",
       "      <td>1.501883</td>\n",
       "      <td>1.502240</td>\n",
       "      <td>1.502859</td>\n",
       "      <td>1.504177</td>\n",
       "      <td>1.508822</td>\n",
       "      <td>1.477664</td>\n",
       "      <td>1.495320</td>\n",
       "      <td>1.497650</td>\n",
       "      <td>1.498559</td>\n",
       "      <td>...</td>\n",
       "      <td>0.000001</td>\n",
       "      <td>0.000001</td>\n",
       "      <td>1.048678e-06</td>\n",
       "      <td>9.636604e-07</td>\n",
       "      <td>8.883372e-07</td>\n",
       "      <td>8.212757e-07</td>\n",
       "      <td>7.613024e-07</td>\n",
       "      <td>7.074479e-07</td>\n",
       "      <td>6.589051e-07</td>\n",
       "      <td>6.149974e-07</td>\n",
       "    </tr>\n",
       "    <tr>\n",
       "      <th>3</th>\n",
       "      <td>1.501653</td>\n",
       "      <td>1.501883</td>\n",
       "      <td>1.502240</td>\n",
       "      <td>1.502859</td>\n",
       "      <td>1.504177</td>\n",
       "      <td>1.508822</td>\n",
       "      <td>1.477664</td>\n",
       "      <td>1.495320</td>\n",
       "      <td>1.497650</td>\n",
       "      <td>1.498559</td>\n",
       "      <td>...</td>\n",
       "      <td>0.000001</td>\n",
       "      <td>0.000001</td>\n",
       "      <td>1.048678e-06</td>\n",
       "      <td>9.636604e-07</td>\n",
       "      <td>8.883372e-07</td>\n",
       "      <td>8.212757e-07</td>\n",
       "      <td>7.613024e-07</td>\n",
       "      <td>7.074479e-07</td>\n",
       "      <td>6.589051e-07</td>\n",
       "      <td>6.149974e-07</td>\n",
       "    </tr>\n",
       "    <tr>\n",
       "      <th>4</th>\n",
       "      <td>1.500000</td>\n",
       "      <td>1.500000</td>\n",
       "      <td>1.500000</td>\n",
       "      <td>1.500000</td>\n",
       "      <td>1.500000</td>\n",
       "      <td>1.500000</td>\n",
       "      <td>1.500000</td>\n",
       "      <td>1.500000</td>\n",
       "      <td>1.500000</td>\n",
       "      <td>1.500000</td>\n",
       "      <td>...</td>\n",
       "      <td>0.000000</td>\n",
       "      <td>0.000000</td>\n",
       "      <td>0.000000e+00</td>\n",
       "      <td>0.000000e+00</td>\n",
       "      <td>0.000000e+00</td>\n",
       "      <td>0.000000e+00</td>\n",
       "      <td>0.000000e+00</td>\n",
       "      <td>0.000000e+00</td>\n",
       "      <td>0.000000e+00</td>\n",
       "      <td>0.000000e+00</td>\n",
       "    </tr>\n",
       "  </tbody>\n",
       "</table>\n",
       "<p>5 rows × 100 columns</p>\n",
       "</div>"
      ],
      "text/plain": [
       "   600.000000   669.387755   738.775510   808.163265   877.551020   \\\n",
       "0     1.501525     1.501756     1.502113     1.502736     1.504067   \n",
       "1     1.400476     1.400499     1.400528     1.400563     1.400608   \n",
       "2     1.501653     1.501883     1.502240     1.502859     1.504177   \n",
       "3     1.501653     1.501883     1.502240     1.502859     1.504177   \n",
       "4     1.500000     1.500000     1.500000     1.500000     1.500000   \n",
       "\n",
       "   946.938776   1016.326531  1085.714286  1155.102041  1224.489796  ...  \\\n",
       "0     1.508878     1.472846     1.495176     1.497553     1.498497  ...   \n",
       "1     1.400664     1.400738     1.400839     1.400980     1.401195  ...   \n",
       "2     1.508822     1.477664     1.495320     1.497650     1.498559  ...   \n",
       "3     1.508822     1.477664     1.495320     1.497650     1.498559  ...   \n",
       "4     1.500000     1.500000     1.500000     1.500000     1.500000  ...   \n",
       "\n",
       "   3375.510204  3444.897959   3514.285714   3583.673469   3653.061224  \\\n",
       "0     0.000000     0.000000  0.000000e+00  0.000000e+00  0.000000e+00   \n",
       "1     0.000001     0.000001  9.301049e-07  8.623225e-07  8.012540e-07   \n",
       "2     0.000001     0.000001  1.048678e-06  9.636604e-07  8.883372e-07   \n",
       "3     0.000001     0.000001  1.048678e-06  9.636604e-07  8.883372e-07   \n",
       "4     0.000000     0.000000  0.000000e+00  0.000000e+00  0.000000e+00   \n",
       "\n",
       "    3722.448980   3791.836735   3861.224490   3930.612245   4000.000000  \n",
       "0  0.000000e+00  0.000000e+00  0.000000e+00  0.000000e+00  0.000000e+00  \n",
       "1  7.460604e-07  6.960288e-07  6.505502e-07  6.091019e-07  5.712336e-07  \n",
       "2  8.212757e-07  7.613024e-07  7.074479e-07  6.589051e-07  6.149974e-07  \n",
       "3  8.212757e-07  7.613024e-07  7.074479e-07  6.589051e-07  6.149974e-07  \n",
       "4  0.000000e+00  0.000000e+00  0.000000e+00  0.000000e+00  0.000000e+00  \n",
       "\n",
       "[5 rows x 100 columns]"
      ]
     },
     "execution_count": 13,
     "metadata": {},
     "output_type": "execute_result"
    }
   ],
   "source": [
    "df_e_spc.head(5)"
   ]
  },
  {
   "cell_type": "code",
   "execution_count": 15,
   "metadata": {},
   "outputs": [],
   "source": [
    "a=list(permutations(parameters,3))"
   ]
  },
  {
   "cell_type": "code",
   "execution_count": 18,
   "metadata": {},
   "outputs": [
    {
     "data": {
      "text/plain": [
       "0.0"
      ]
     },
     "execution_count": 18,
     "metadata": {},
     "output_type": "execute_result"
    }
   ],
   "source": [
    "a[0][0]"
   ]
  },
  {
   "cell_type": "code",
   "execution_count": 135,
   "metadata": {},
   "outputs": [
    {
     "data": {
      "text/plain": [
       "[(1.0, 0.0, 0.0), (0.0, 0.0, 0.0), (1.0, 2.0, 2.0)]"
      ]
     },
     "execution_count": 135,
     "metadata": {},
     "output_type": "execute_result"
    }
   ],
   "source": [
    "set_param"
   ]
  },
  {
   "cell_type": "code",
   "execution_count": 141,
   "metadata": {},
   "outputs": [
    {
     "data": {
      "text/plain": [
       "[(0.0, 0.0),\n",
       " (0.0, 1.0),\n",
       " (0.0, 2.0),\n",
       " (1.0, 0.0),\n",
       " (1.0, 1.0),\n",
       " (1.0, 2.0),\n",
       " (2.0, 0.0),\n",
       " (2.0, 1.0),\n",
       " (2.0, 2.0)]"
      ]
     },
     "execution_count": 141,
     "metadata": {},
     "output_type": "execute_result"
    }
   ],
   "source": [
    "p_q=list(product(w_p,gam))\n",
    "p_q"
   ]
  },
  {
   "cell_type": "code",
   "execution_count": 143,
   "metadata": {},
   "outputs": [
    {
     "data": {
      "text/plain": [
       "[(0.0, (0.0, 0.0)),\n",
       " (0.0, (0.0, 1.0)),\n",
       " (0.0, (0.0, 2.0)),\n",
       " (0.0, (1.0, 0.0)),\n",
       " (0.0, (1.0, 1.0)),\n",
       " (0.0, (1.0, 2.0)),\n",
       " (0.0, (2.0, 0.0)),\n",
       " (0.0, (2.0, 1.0)),\n",
       " (0.0, (2.0, 2.0)),\n",
       " (1.0, (0.0, 0.0)),\n",
       " (1.0, (0.0, 1.0)),\n",
       " (1.0, (0.0, 2.0)),\n",
       " (1.0, (1.0, 0.0)),\n",
       " (1.0, (1.0, 1.0)),\n",
       " (1.0, (1.0, 2.0)),\n",
       " (1.0, (2.0, 0.0)),\n",
       " (1.0, (2.0, 1.0)),\n",
       " (1.0, (2.0, 2.0)),\n",
       " (2.0, (0.0, 0.0)),\n",
       " (2.0, (0.0, 1.0)),\n",
       " (2.0, (0.0, 2.0)),\n",
       " (2.0, (1.0, 0.0)),\n",
       " (2.0, (1.0, 1.0)),\n",
       " (2.0, (1.0, 2.0)),\n",
       " (2.0, (2.0, 0.0)),\n",
       " (2.0, (2.0, 1.0)),\n",
       " (2.0, (2.0, 2.0))]"
      ]
     },
     "execution_count": 143,
     "metadata": {},
     "output_type": "execute_result"
    }
   ],
   "source": [
    "parr=list(product(w0,p_q))\n",
    "parr"
   ]
  },
  {
   "cell_type": "code",
   "execution_count": 152,
   "metadata": {},
   "outputs": [
    {
     "name": "stdout",
     "output_type": "stream",
     "text": [
      "     0    1    2    3    4    5    6    7    8\n",
      "0  0.0  0.0  0.0  1.0  2.0  2.0  2.0  2.0  2.0\n",
      "     0    1    2    3    4    5    6    7    8\n",
      "0  0.0  0.0  1.0  1.0  2.0  2.0  2.0  2.0  2.0\n",
      "     0    1    2    3    4    5    6    7    8\n",
      "0  0.0  0.0  2.0  1.0  2.0  2.0  2.0  2.0  2.0\n",
      "     0    1    2    3    4    5    6    7    8\n",
      "0  0.0  1.0  0.0  1.0  2.0  2.0  2.0  2.0  2.0\n",
      "     0    1    2    3    4    5    6    7    8\n",
      "0  0.0  1.0  1.0  1.0  2.0  2.0  2.0  2.0  2.0\n",
      "     0    1    2    3    4    5    6    7    8\n",
      "0  0.0  1.0  2.0  1.0  2.0  2.0  2.0  2.0  2.0\n",
      "     0    1    2    3    4    5    6    7    8\n",
      "0  0.0  2.0  0.0  1.0  2.0  2.0  2.0  2.0  2.0\n",
      "     0    1    2    3    4    5    6    7    8\n",
      "0  0.0  2.0  1.0  1.0  2.0  2.0  2.0  2.0  2.0\n",
      "     0    1    2    3    4    5    6    7    8\n",
      "0  0.0  2.0  2.0  1.0  2.0  2.0  2.0  2.0  2.0\n",
      "     0    1    2    3    4    5    6    7    8\n",
      "0  0.0  2.0  2.0  1.0  0.0  0.0  2.0  2.0  2.0\n",
      "     0    1    2    3    4    5    6    7    8\n",
      "0  0.0  2.0  2.0  1.0  0.0  1.0  2.0  2.0  2.0\n",
      "     0    1    2    3    4    5    6    7    8\n",
      "0  0.0  2.0  2.0  1.0  0.0  2.0  2.0  2.0  2.0\n",
      "     0    1    2    3    4    5    6    7    8\n",
      "0  0.0  2.0  2.0  1.0  1.0  0.0  2.0  2.0  2.0\n",
      "     0    1    2    3    4    5    6    7    8\n",
      "0  0.0  2.0  2.0  1.0  1.0  1.0  2.0  2.0  2.0\n",
      "     0    1    2    3    4    5    6    7    8\n",
      "0  0.0  2.0  2.0  1.0  1.0  2.0  2.0  2.0  2.0\n",
      "     0    1    2    3    4    5    6    7    8\n",
      "0  0.0  2.0  2.0  1.0  2.0  0.0  2.0  2.0  2.0\n",
      "     0    1    2    3    4    5    6    7    8\n",
      "0  0.0  2.0  2.0  1.0  2.0  1.0  2.0  2.0  2.0\n",
      "     0    1    2    3    4    5    6    7    8\n",
      "0  0.0  2.0  2.0  1.0  2.0  2.0  2.0  2.0  2.0\n",
      "     0    1    2    3    4    5    6    7    8\n",
      "0  0.0  2.0  2.0  1.0  2.0  2.0  2.0  0.0  0.0\n",
      "     0    1    2    3    4    5    6    7    8\n",
      "0  0.0  2.0  2.0  1.0  2.0  2.0  2.0  0.0  1.0\n",
      "     0    1    2    3    4    5    6    7    8\n",
      "0  0.0  2.0  2.0  1.0  2.0  2.0  2.0  0.0  2.0\n",
      "     0    1    2    3    4    5    6    7    8\n",
      "0  0.0  2.0  2.0  1.0  2.0  2.0  2.0  1.0  0.0\n",
      "     0    1    2    3    4    5    6    7    8\n",
      "0  0.0  2.0  2.0  1.0  2.0  2.0  2.0  1.0  1.0\n",
      "     0    1    2    3    4    5    6    7    8\n",
      "0  0.0  2.0  2.0  1.0  2.0  2.0  2.0  1.0  2.0\n",
      "     0    1    2    3    4    5    6    7    8\n",
      "0  0.0  2.0  2.0  1.0  2.0  2.0  2.0  2.0  0.0\n",
      "     0    1    2    3    4    5    6    7    8\n",
      "0  0.0  2.0  2.0  1.0  2.0  2.0  2.0  2.0  1.0\n",
      "     0    1    2    3    4    5    6    7    8\n",
      "0  0.0  2.0  2.0  1.0  2.0  2.0  2.0  2.0  2.0\n"
     ]
    }
   ],
   "source": [
    "count=0\n",
    "for i in w0:\n",
    "    for j in w_p:\n",
    "        for k in gam:\n",
    "            a[count]=i\n",
    "            a[count+1]=j\n",
    "            a[count+2]=k\n",
    "            peak_list=pd.DataFrame(data=a).T\n",
    "            if j == 2 and k == 2:\n",
    "                count+=3\n",
    "                #break\n",
    "            \n",
    "            print(peak_list)\n",
    "            peak.append(peak_list)\n",
    "            #testData.append(multi_lorentz(wavenumbers,a))\n",
    "            #print(testData)\n",
    "            #dat=pd.DataFrame(data=a).T\n",
    "            #print(dat)\n",
    "            #df2.append(dat)\n",
    "\n",
    "        #testData.append(multi_lorentz(x,a))\n",
    "#df1=pd.DataFrame(data=testData, columns=wavenumbers)\n",
    "#df2=pd.DataFrame(data=peak)\n",
    "#df=pd.concat([df2, df1], axis=1)"
   ]
  },
  {
   "cell_type": "code",
   "execution_count": 154,
   "metadata": {},
   "outputs": [],
   "source": [
    "parr=[0,random.sample(list(product(w_p,gam)),1),1,random.sample(list(product(w_p,gam)),1),2,random.sample(list(product(w_p,gam)),1)]"
   ]
  },
  {
   "cell_type": "code",
   "execution_count": 155,
   "metadata": {},
   "outputs": [
    {
     "data": {
      "text/plain": [
       "[0, [(1.0, 2.0)], 1, [(0.0, 0.0)], 2, [(0.0, 0.0)]]"
      ]
     },
     "execution_count": 155,
     "metadata": {},
     "output_type": "execute_result"
    }
   ],
   "source": [
    "parr"
   ]
  },
  {
   "cell_type": "code",
   "execution_count": null,
   "metadata": {},
   "outputs": [],
   "source": []
  }
 ],
 "metadata": {
  "kernelspec": {
   "display_name": "Python 3",
   "language": "python",
   "name": "python3"
  },
  "language_info": {
   "codemirror_mode": {
    "name": "ipython",
    "version": 3
   },
   "file_extension": ".py",
   "mimetype": "text/x-python",
   "name": "python",
   "nbconvert_exporter": "python",
   "pygments_lexer": "ipython3",
   "version": "3.8.3"
  }
 },
 "nbformat": 4,
 "nbformat_minor": 4
}
